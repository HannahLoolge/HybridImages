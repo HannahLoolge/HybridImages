{
 "cells": [
  {
   "cell_type": "code",
   "execution_count": 4,
   "metadata": {},
   "outputs": [],
   "source": [
    "#from scipy.misc import imfilter\n",
    "import numpy as np\n",
    "\"\"\" Exemplar Gaussian 3x3 filter shown below-- see filters defined in proj1_test_filtering.py \"\"\"\n",
    "filter = np.asarray([[0.1019,0.1154,0.1019],[0.1154,0.1308,0.1154],[0.1019,0.1154,0.1019]],\\\n",
    "                    dtype=np.float32) \n",
    "\n",
    "def my_imfilter(image,filter):  #which will work identically to the function below\n",
    "  #output = imfilter(image, filter) #replace your code here\n",
    "    out_len = image.shape[0]\n",
    "    out_width = image.shape[1]\n",
    "    out_channels = len(image[0][0])\n",
    "    \n",
    "    output = np.zeros(out_len, out_width, out_channels)\n",
    "    \n",
    "    pad_len = filter.shape[0]\n",
    "    pad_width = filter.shape[1]\n",
    "    \n",
    "    temp = np.zeros(out_len+pad_len-1, out_width+pad_width-1, out_channels)\n",
    "    \n",
    "    temp[int((pad_len-1)/2):out_len+int((pad_len-1)/2), int((pad_width-1)/2):out_width+int((pad_width-1)/2)]=image\n",
    "    \n",
    "    for k in range(out_channels):\n",
    "        for x in range(out_len):\n",
    "            for y in range(out_width):\n",
    "                mult = np.multiply(temp[x:x+out_len, y:y+out+width, k], filter).sum()\n",
    "                output[x][y][k]=sum(mult)\n",
    "    return output        "
   ]
  },
  {
   "cell_type": "code",
   "execution_count": 5,
   "metadata": {},
   "outputs": [],
   "source": [
    "def my_imfilter(image,filter):  #which will work identically to the function below\n",
    "#    output = imfilter(image, filter) #replace your code here\n",
    "#    output = scipy.ndimage.correlate(image, filter, mode='constant').transpose()\n",
    "    filter = np.flipud(np.fliplr(filter))\n",
    "    output = np.zeros_like(image)\n",
    "    image_padded = np.zeros((image.shape[0]+2, image.shape[1]+2, image.shape[2]))\n",
    "    image_padded[1:-1, 1:-1] = image\n",
    "    ch = image[0][0]\n",
    "    for k in range(len(image[0][0])):    \n",
    "        for x in range(image.shape[1]):\n",
    "            for y in range(image.shape[0]):\n",
    "                output[y,x,k] = (filter*image_padded[y:y+filter.shape[0], x:x+filter.shape[1]],k).sum()\n",
    "            \n",
    "    output = np.clip(output, 0, 1)\n",
    "    return output        "
   ]
  },
  {
   "cell_type": "code",
   "execution_count": null,
   "metadata": {},
   "outputs": [],
   "source": []
  }
 ],
 "metadata": {
  "kernelspec": {
   "display_name": "Python 3",
   "language": "python",
   "name": "python3"
  },
  "language_info": {
   "codemirror_mode": {
    "name": "ipython",
    "version": 3
   },
   "file_extension": ".py",
   "mimetype": "text/x-python",
   "name": "python",
   "nbconvert_exporter": "python",
   "pygments_lexer": "ipython3",
   "version": "3.7.3"
  }
 },
 "nbformat": 4,
 "nbformat_minor": 2
}
